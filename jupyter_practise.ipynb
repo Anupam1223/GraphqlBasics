{
 "cells": [
  {
   "cell_type": "code",
   "execution_count": 127,
   "source": [
    "import pandas as pd\r\n",
    "all_data = pd.read_csv(\"MergeRequest.csv\")\r\n",
    "all_data[\"All Request\"] = 1\r\n",
    "\r\n",
    "# merged request without comments\r\n",
    "# all_data = all_data[(all_data[\"State\"] == \"merged\") & (all_data[\"User Comments\"] == 0)]\r\n",
    "# grouped = all_data.groupby(by=[\"Target Project\", \"Author\"])\r\n",
    "# grouped[\"All Request\"].count()\r\n",
    "\r\n",
    "# merged request with comments\r\n",
    "# all_data = all_data[(all_data[\"State\"] == \"merged\") & (all_data[\"User Comments\"] > 0)]\r\n",
    "# grouped = all_data.groupby(by=[\"Target Project\", \"Author\"])\r\n",
    "# grouped[\"All Request\"].count()\r\n",
    "\r\n",
    "# merged request with reviews\r\n",
    "# all_data = all_data[(all_data[\"State\"] == \"merged\") & (all_data[\"Reviews\"] > 0)]\r\n",
    "# grouped = all_data.groupby(by=[\"Target Project\", \"Author\"])\r\n",
    "# grouped[\"Merge Request\"].count()\r\n",
    "\r\n",
    "# merged request without reviews\r\n",
    "# all_data = all_data[(all_data[\"State\"] == \"merged\") & (all_data[\"Reviews\"] == 0)]\r\n",
    "# grouped = all_data.groupby(by=[\"Target Project\", \"Author\"])\r\n",
    "# grouped[\"Merge Request\"].count()\r\n"
   ],
   "outputs": [
    {
     "output_type": "execute_result",
     "data": {
      "text/plain": [
       "Target Project    Author              \n",
       "krispcall-client  Abin Khatiwada          15\n",
       "                  Narendra Giri            4\n",
       "                  Ritesh  Sainju           4\n",
       "                  Sundar Shahi            10\n",
       "                  Sundar Shahi Thakuri    10\n",
       "                  Tashi Lama               6\n",
       "                  Tushant Khatiwada        2\n",
       "Name: All Request, dtype: int64"
      ]
     },
     "metadata": {},
     "execution_count": 127
    }
   ],
   "metadata": {}
  }
 ],
 "metadata": {
  "orig_nbformat": 4,
  "language_info": {
   "name": "python",
   "version": "3.9.6",
   "mimetype": "text/x-python",
   "codemirror_mode": {
    "name": "ipython",
    "version": 3
   },
   "pygments_lexer": "ipython3",
   "nbconvert_exporter": "python",
   "file_extension": ".py"
  },
  "kernelspec": {
   "name": "python3",
   "display_name": "Python 3.9.6 64-bit"
  },
  "interpreter": {
   "hash": "7df801c311b9d1dd0a656e50a6c981138dd77383b9c5b79be01073bd8ab31919"
  }
 },
 "nbformat": 4,
 "nbformat_minor": 2
}