{
 "cells": [
  {
   "cell_type": "code",
   "execution_count": 137,
   "source": [
    "import pandas as pd\r\n",
    "all_data = pd.read_csv(\"MergeRequest.csv\")\r\n",
    "all_data[\"Merge Request\"] = 1\r\n",
    "\r\n",
    "# merge requests send by individual user\r\n",
    "# IndividualMergeRequest = all_data.groupby(by=\"Author\").count()\r\n",
    "# IndividualMergeRequest[\"Merge Request\"]\r\n",
    "\r\n",
    "# merged request without comments\r\n",
    "# all_data = all_data[(all_data[\"State\"] == \"merged\") & (all_data[\"User Comments\"] == 0)]\r\n",
    "# grouped = all_data.groupby(by=[\"Target Project\", \"Author\"])\r\n",
    "# grouped[\"Merge Request\"].count()\r\n",
    "\r\n",
    "# merged request with comments\r\n",
    "# all_data = all_data[(all_data[\"State\"] == \"merged\") & (all_data[\"User Comments\"] > 0)]\r\n",
    "# grouped = all_data.groupby(by=[\"Target Project\", \"Author\"])\r\n",
    "# grouped[\"Merge Request\"].count()\r\n",
    "\r\n",
    "# merged request with reviews\r\n",
    "# all_data = all_data[(all_data[\"State\"] == \"merged\") & (all_data[\"Reviews\"] > 0)]\r\n",
    "# grouped = all_data.groupby(by=[\"Target Project\", \"Author\"])\r\n",
    "# grouped[\"Merge Request\"].count()\r\n",
    "\r\n",
    "# merged request without reviews\r\n",
    "# all_data = all_data[(all_data[\"State\"] == \"merged\") & (all_data[\"Reviews\"] == 0)]\r\n",
    "# grouped = all_data.groupby(by=[\"Target Project\", \"Author\"])\r\n",
    "# grouped[\"Merge Request\"].count()\r\n"
   ],
   "outputs": [
    {
     "output_type": "execute_result",
     "data": {
      "text/plain": [
       "Author\n",
       "Abin Khatiwada           77\n",
       "Narendra Giri            93\n",
       "Pravesh Chapagain        29\n",
       "Ritesh  Sainju          309\n",
       "Sundar Shahi            199\n",
       "Sundar Shahi Thakuri    199\n",
       "Tashi Lama              131\n",
       "Tushant Khatiwada        92\n",
       "Name: Merge Request, dtype: int64"
      ]
     },
     "metadata": {},
     "execution_count": 137
    }
   ],
   "metadata": {}
  }
 ],
 "metadata": {
  "orig_nbformat": 4,
  "language_info": {
   "name": "python",
   "version": "3.9.6",
   "mimetype": "text/x-python",
   "codemirror_mode": {
    "name": "ipython",
    "version": 3
   },
   "pygments_lexer": "ipython3",
   "nbconvert_exporter": "python",
   "file_extension": ".py"
  },
  "kernelspec": {
   "name": "python3",
   "display_name": "Python 3.9.6 64-bit"
  },
  "interpreter": {
   "hash": "7df801c311b9d1dd0a656e50a6c981138dd77383b9c5b79be01073bd8ab31919"
  }
 },
 "nbformat": 4,
 "nbformat_minor": 2
}