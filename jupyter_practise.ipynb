{
 "cells": [
  {
   "cell_type": "code",
   "execution_count": 7,
   "source": [
    "import pandas as pd\r\n",
    "all_data = pd.read_csv(\"MergeRequest.csv\")\r\n",
    "all_data[\"Merge Request\"] = 1\r\n",
    "\r\n",
    "# # no of total merge request\r\n",
    "# all_data[\"Merge Request\"].count()\r\n",
    "\r\n",
    "# # no of merged PR\r\n",
    "# TotalMergedRequests = all_data[(all_data[\"State\"] == \"merged\")]\r\n",
    "# TotalMergedRequests[\"Merge Request\"].count()\r\n",
    "\r\n",
    "# # no of closed PR\r\n",
    "# TotalClosedRequests = all_data[(all_data[\"State\"] == \"closed\")]\r\n",
    "# TotalClosedRequests[\"Merge Request\"].count()\r\n",
    "\r\n",
    "# # no of merge requests send by individual user\r\n",
    "# IndividualMergeRequest = all_data.groupby(by=\"Author\").count()\r\n",
    "# IndividualMergeRequest[\"Merge Request\"]\r\n",
    "\r\n",
    "# total no of reviews accroding to author and project\r\n",
    "# CommentsInMergeRequests = all_data[all_data[\"User Comments\"] > 0]\r\n",
    "# grouped = CommentsInMergeRequests.groupby(by=[\"Target Project\", \"Author\"])\r\n",
    "# grouped[\"Merge Request\"].count()\r\n",
    "\r\n",
    "# # no of merged request without comments\r\n",
    "# MergedWithoutComments = all_data[(all_data[\"State\"] == \"merged\") & (all_data[\"User Comments\"] == 0)]\r\n",
    "# grouped = MergedWithoutComments.groupby(by=[\"Target Project\", \"Author\"])\r\n",
    "# grouped[\"Merge Request\"].count()\r\n",
    "\r\n",
    "# # no of merged request with comments\r\n",
    "# MergedWithComments = all_data[(all_data[\"State\"] == \"merged\") & (all_data[\"User Comments\"] > 0)]\r\n",
    "# grouped = MergedWithComments.groupby(by=[\"Target Project\", \"Author\"])\r\n",
    "# grouped[\"Merge Request\"].count()\r\n",
    "\r\n",
    "# # no of merged request with reviews\r\n",
    "# MergedWithReviews = all_data[(all_data[\"State\"] == \"merged\") & (all_data[\"Reviews\"] > 0)]\r\n",
    "# grouped = MergedWithReviews.groupby(by=[\"Target Project\", \"Author\"])\r\n",
    "# grouped[\"Merge Request\"].count()\r\n",
    "\r\n",
    "# # no of merged request without reviews\r\n",
    "# MergedWithoutReviews = all_data[(all_data[\"State\"] == \"merged\") & (all_data[\"Reviews\"] == 0)]\r\n",
    "# grouped = MergedWithoutReviews.groupby(by=[\"Target Project\", \"Author\"])\r\n",
    "# grouped[\"Merge Request\"].count()\r\n",
    "\r\n",
    "# total no of reviews accroding to author and project\r\n",
    "# ReviewedMergeRequests = all_data[all_data[\"Reviews\"] > 0]\r\n",
    "# grouped = ReviewedMergeRequests.groupby(by=[\"Target Project\", \"Author\"])\r\n",
    "# grouped[\"Merge Request\"].count()\r\n",
    "\r\n"
   ],
   "outputs": [
    {
     "output_type": "execute_result",
     "data": {
      "text/plain": [
       "Target Project    Author              \n",
       "krispcall-client  Abin Khatiwada          15\n",
       "                  Narendra Giri            4\n",
       "                  Ritesh  Sainju           4\n",
       "                  Sundar Shahi            11\n",
       "                  Sundar Shahi Thakuri    10\n",
       "                  Tashi Lama               6\n",
       "                  Tushant Khatiwada        2\n",
       "Name: Merge Request, dtype: int64"
      ]
     },
     "metadata": {},
     "execution_count": 7
    }
   ],
   "metadata": {}
  }
 ],
 "metadata": {
  "orig_nbformat": 4,
  "language_info": {
   "name": "python",
   "version": "3.9.6",
   "mimetype": "text/x-python",
   "codemirror_mode": {
    "name": "ipython",
    "version": 3
   },
   "pygments_lexer": "ipython3",
   "nbconvert_exporter": "python",
   "file_extension": ".py"
  },
  "kernelspec": {
   "name": "python3",
   "display_name": "Python 3.9.6 64-bit"
  },
  "interpreter": {
   "hash": "7df801c311b9d1dd0a656e50a6c981138dd77383b9c5b79be01073bd8ab31919"
  }
 },
 "nbformat": 4,
 "nbformat_minor": 2
}