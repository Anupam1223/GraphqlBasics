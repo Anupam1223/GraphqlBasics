{
 "cells": [
  {
   "cell_type": "code",
   "execution_count": 3,
   "source": [
    "import pandas as pd\r\n",
    "all_data = pd.read_csv(\"MergeRequest.csv\")\r\n",
    "\r\n",
    "all_data.head()"
   ],
   "outputs": [
    {
     "output_type": "execute_result",
     "data": {
      "text/html": [
       "<div>\n",
       "<style scoped>\n",
       "    .dataframe tbody tr th:only-of-type {\n",
       "        vertical-align: middle;\n",
       "    }\n",
       "\n",
       "    .dataframe tbody tr th {\n",
       "        vertical-align: top;\n",
       "    }\n",
       "\n",
       "    .dataframe thead th {\n",
       "        text-align: right;\n",
       "    }\n",
       "</style>\n",
       "<table border=\"1\" class=\"dataframe\">\n",
       "  <thead>\n",
       "    <tr style=\"text-align: right;\">\n",
       "      <th></th>\n",
       "      <th>Approved</th>\n",
       "      <th>Title</th>\n",
       "      <th>CommitCount</th>\n",
       "      <th>State</th>\n",
       "      <th>Reviews</th>\n",
       "    </tr>\n",
       "  </thead>\n",
       "  <tbody>\n",
       "    <tr>\n",
       "      <th>0</th>\n",
       "      <td>True</td>\n",
       "      <td>Deploy UAT: Sep 16</td>\n",
       "      <td>162</td>\n",
       "      <td>opened</td>\n",
       "      <td>[]</td>\n",
       "    </tr>\n",
       "    <tr>\n",
       "      <th>1</th>\n",
       "      <td>True</td>\n",
       "      <td>fixes for trial subs</td>\n",
       "      <td>1</td>\n",
       "      <td>merged</td>\n",
       "      <td>[]</td>\n",
       "    </tr>\n",
       "    <tr>\n",
       "      <th>2</th>\n",
       "      <td>True</td>\n",
       "      <td>Draft: Fix/workspace ordering</td>\n",
       "      <td>2</td>\n",
       "      <td>opened</td>\n",
       "      <td>Sundar Shahi</td>\n",
       "    </tr>\n",
       "    <tr>\n",
       "      <th>3</th>\n",
       "      <td>True</td>\n",
       "      <td>refactor: added card details optimistic respon...</td>\n",
       "      <td>1</td>\n",
       "      <td>merged</td>\n",
       "      <td>[]</td>\n",
       "    </tr>\n",
       "    <tr>\n",
       "      <th>4</th>\n",
       "      <td>True</td>\n",
       "      <td>feat: implemented renew subs and force redirec...</td>\n",
       "      <td>5</td>\n",
       "      <td>merged</td>\n",
       "      <td>[]</td>\n",
       "    </tr>\n",
       "  </tbody>\n",
       "</table>\n",
       "</div>"
      ],
      "text/plain": [
       "   Approved                                              Title  CommitCount  \\\n",
       "0      True                                 Deploy UAT: Sep 16          162   \n",
       "1      True                               fixes for trial subs            1   \n",
       "2      True                      Draft: Fix/workspace ordering            2   \n",
       "3      True  refactor: added card details optimistic respon...            1   \n",
       "4      True  feat: implemented renew subs and force redirec...            5   \n",
       "\n",
       "    State       Reviews  \n",
       "0  opened            []  \n",
       "1  merged            []  \n",
       "2  opened  Sundar Shahi  \n",
       "3  merged            []  \n",
       "4  merged            []  "
      ]
     },
     "metadata": {},
     "execution_count": 3
    }
   ],
   "metadata": {}
  }
 ],
 "metadata": {
  "orig_nbformat": 4,
  "language_info": {
   "name": "python",
   "version": "3.9.6",
   "mimetype": "text/x-python",
   "codemirror_mode": {
    "name": "ipython",
    "version": 3
   },
   "pygments_lexer": "ipython3",
   "nbconvert_exporter": "python",
   "file_extension": ".py"
  },
  "kernelspec": {
   "name": "python3",
   "display_name": "Python 3.9.6 64-bit"
  },
  "interpreter": {
   "hash": "7df801c311b9d1dd0a656e50a6c981138dd77383b9c5b79be01073bd8ab31919"
  }
 },
 "nbformat": 4,
 "nbformat_minor": 2
}